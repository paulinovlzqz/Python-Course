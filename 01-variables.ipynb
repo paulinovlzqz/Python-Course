{
 "cells": [
  {
   "cell_type": "markdown",
   "metadata": {},
   "source": [
    "# Variables\n",
    "\n",
    "Cada variable esta asociada con un valor el cual es la informacion asociada a esa variable.\n",
    "\n",
    "A menudo las variables se describen como si fueran una caja y que podemos guardar valores en ella, piensen en las variables como si fueran una etiqueta que podemos asignar a ciertos valores."
   ]
  },
  {
   "cell_type": "code",
   "execution_count": null,
   "metadata": {},
   "outputs": [],
   "source": [
    "mensaje = \"Hola mundo!\"\n",
    "print(mensaje)"
   ]
  },
  {
   "cell_type": "markdown",
   "metadata": {
    "tags": [
     "Nombrado de variables"
    ]
   },
   "source": [
    "### Como nombrar y utilizar variables?\n",
    "* Los nombres de las variables pueden contener letras, numeros y guiones\n",
    "    * mensaje_1\n",
    "    * numero_personas\n",
    "* Los espacios no estan permitidos\n",
    "    * nombre estudiante\n",
    "* No es posible utilizar las palabras reservadas para nombrar variables\n",
    "* Recomendacion, las variables tiene que ser cortas pero descriptivas\n",
    "    * n_e"
   ]
  },
  {
   "cell_type": "code",
   "execution_count": null,
   "metadata": {},
   "outputs": [],
   "source": [
    "import keyword\n",
    "print(keyword.kwlist)"
   ]
  },
  {
   "cell_type": "code",
   "execution_count": null,
   "metadata": {},
   "outputs": [],
   "source": [
    "False = \"hola mundo\"\n",
    "print(False)"
   ]
  }
 ],
 "metadata": {
  "kernelspec": {
   "display_name": "Python 3",
   "language": "python",
   "name": "python3"
  },
  "language_info": {
   "codemirror_mode": {
    "name": "ipython",
    "version": 3
   },
   "file_extension": ".py",
   "mimetype": "text/x-python",
   "name": "python",
   "nbconvert_exporter": "python",
   "pygments_lexer": "ipython3",
   "version": "3.11.2"
  }
 },
 "nbformat": 4,
 "nbformat_minor": 2
}
