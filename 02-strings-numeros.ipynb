{
 "cells": [
  {
   "cell_type": "markdown",
   "metadata": {},
   "source": [
    "### Strings y numeros\n",
    "\n",
    "Un string o cadena de texto son una serie de caracteres dentro de unas comillas \n",
    "\n",
    "Los numeros los tenemos de dos formas\n",
    "\n",
    "Enteros: 1,2,3,4,5\n",
    "\n",
    "flotantes: 3.5, 2.2, 1.1"
   ]
  },
  {
   "cell_type": "code",
   "execution_count": 4,
   "metadata": {},
   "outputs": [
    {
     "name": "stdout",
     "output_type": "stream",
     "text": [
      "hola mundo\n",
      "este igual es un string\n",
      "10\n",
      "10.2\n"
     ]
    }
   ],
   "source": [
    "mensaje = \"hola mundo\"\n",
    "print(mensaje)\n",
    "\n",
    "mensaje2 = 'este igual es un string'\n",
    "print(mensaje2)\n",
    "\n",
    "numero = 10\n",
    "print(numero)\n",
    "\n",
    "numero2 = 10.2\n",
    "print(numero2)"
   ]
  },
  {
   "cell_type": "markdown",
   "metadata": {},
   "source": [
    "### Cambiar minusculas y mayusculas en string"
   ]
  },
  {
   "cell_type": "code",
   "execution_count": 8,
   "metadata": {},
   "outputs": [
    {
     "name": "stdout",
     "output_type": "stream",
     "text": [
      "paulino velazquez\n",
      "PAULINO VELAZQUEZ\n",
      "Paulino Velazquez\n"
     ]
    }
   ],
   "source": [
    "nombre = \"paulino VELAZQUEZ\"\n",
    "\n",
    "print(nombre.lower())\n",
    "print(nombre.upper())\n",
    "print(nombre.title())"
   ]
  },
  {
   "cell_type": "markdown",
   "metadata": {},
   "source": [
    "### Usando variables en string"
   ]
  },
  {
   "cell_type": "code",
   "execution_count": 18,
   "metadata": {},
   "outputs": [
    {
     "name": "stdout",
     "output_type": "stream",
     "text": [
      "hola, \n",
      "mi nombres es paulino, \n",
      "mi apellido es velazquez \n",
      "y tengo 28 años\n",
      "el tipo de dato de nombre es:  <class 'str'>\n",
      "el tipo de dato de edad es:  <class 'int'>\n",
      "el tipo de dato de calificacion es:  <class 'float'>\n"
     ]
    }
   ],
   "source": [
    "nombre = \"paulino\"\n",
    "apellido = \"velazquez\"\n",
    "edad = 28\n",
    "\n",
    "calificacion = 6.5\n",
    "\n",
    "informacion = f'hola, \\nmi nombres es {nombre}, \\nmi apellido es {apellido} \\ny tengo {edad} años'\n",
    "print(informacion)\n",
    "\n",
    "print(\"el tipo de dato de nombre es: \", type(nombre))\n",
    "print(\"el tipo de dato de edad es: \", type(edad))\n",
    "print(\"el tipo de dato de calificacion es: \", type(calificacion))\n"
   ]
  }
 ],
 "metadata": {
  "kernelspec": {
   "display_name": "Python 3",
   "language": "python",
   "name": "python3"
  },
  "language_info": {
   "codemirror_mode": {
    "name": "ipython",
    "version": 3
   },
   "file_extension": ".py",
   "mimetype": "text/x-python",
   "name": "python",
   "nbconvert_exporter": "python",
   "pygments_lexer": "ipython3",
   "version": "3.11.2"
  }
 },
 "nbformat": 4,
 "nbformat_minor": 2
}
