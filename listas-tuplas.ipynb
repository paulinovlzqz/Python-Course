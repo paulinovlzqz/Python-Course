{
 "cells": [
  {
   "cell_type": "markdown",
   "metadata": {},
   "source": [
    "### Listas\n",
    "\n",
    "Una listas es una coleccion de elementos en un orden particular\n",
    "\n",
    "Algunas propiedades de las listas:\n",
    "\n",
    "* Son ordenadas, mantienen el orden en el que han sido definidas\n",
    "* Pueden ser formadas por cualquier cosa que quieras meter\n",
    "* Se pueden anidar, es decir, meter una dentro de la otra.\n",
    "* Son mutables, ya que sus elementos pueden ser modificados.\n",
    "* Son dinámicas, ya que se pueden añadir o eliminar elementos."
   ]
  },
  {
   "cell_type": "code",
   "execution_count": 9,
   "metadata": {},
   "outputs": [
    {
     "name": "stdout",
     "output_type": "stream",
     "text": [
      "['pedro', 'paulino', 'fernando']\n",
      "fernando\n",
      "hola, mi nombre es fernando\n"
     ]
    }
   ],
   "source": [
    "# crear una lista\n",
    "lista = [\"pedro\", \"paulino\", \"fernando\"]\n",
    "print(lista)\n",
    "# la posicion empieza en 0 o en 1?\n",
    "print(lista[2])\n",
    "# crear un mensaje con f-string y el valor de una lista\n",
    "mensaje = f'hola, mi nombre es {lista[2]}'\n",
    "print(mensaje)"
   ]
  },
  {
   "cell_type": "code",
   "execution_count": 16,
   "metadata": {},
   "outputs": [
    {
     "name": "stdout",
     "output_type": "stream",
     "text": [
      "['pedro', 'paulino', 'fernando', 'sofia']\n",
      "['armando', 'pedro', 'paulino', 'fernando', 'sofia']\n",
      "el ultimo elemento de la lista es:  sofia\n",
      "el penultimo elemento de la lista es:  fernando\n",
      "['armando', 'pedro', 'paulino', 'fernando']\n",
      "['pedro', 'paulino', 'fernando']\n",
      "el popped es:  fernando\n",
      "['pedro', 'paulino']\n"
     ]
    }
   ],
   "source": [
    "# Insertar, acceder, modificar y eliminar\n",
    "lista = [\"pedro\", \"paulino\", \"fernando\"]\n",
    "\n",
    "lista.append(\"sofia\")\n",
    "print(lista)\n",
    "\n",
    "lista.insert(0, \"armando\")\n",
    "print(lista)\n",
    "\n",
    "\n",
    "print(\"el ultimo elemento de la lista es: \", lista[-1])\n",
    "print(\"el penultimo elemento de la lista es: \", lista[-2])\n",
    "\n",
    "lista.remove(\"sofia\")\n",
    "print(lista)\n",
    "\n",
    "del lista[0]\n",
    "print(lista)\n",
    "\n",
    "popped = lista.pop()\n",
    "print(\"el popped es: \", popped)\n",
    "print(lista)\n",
    "\n"
   ]
  },
  {
   "cell_type": "code",
   "execution_count": 27,
   "metadata": {},
   "outputs": [
    {
     "name": "stdout",
     "output_type": "stream",
     "text": [
      "[1, 2, 3, 10, 8, 4, 5, 6]\n",
      "[1, 2, 3, 10, 8, 4, 5, 6]\n",
      "lista ordenada:  [1, 2, 3, 4, 5, 6, 8, 10]\n",
      "lista ordenada reverse:  [10, 8, 6, 5, 4, 3, 2, 1]\n",
      "lista ordenada temporal:  [1, 2, 3, 4, 5, 6, 8, 10]\n",
      "7\n",
      "8\n"
     ]
    }
   ],
   "source": [
    "# organizar una lista\n",
    "lista = [1, 2, 3, 10, 8, 4, 5, 6]\n",
    "lista2 = lista[:]\n",
    "print(lista)\n",
    "print(lista2)\n",
    "#permanente\n",
    "lista.sort()\n",
    "print(\"lista ordenada: \", lista)\n",
    "\n",
    "lista.sort(reverse=True)\n",
    "print(\"lista ordenada reverse: \", lista)\n",
    "#temporal\n",
    "print(\"lista ordenada temporal: \", sorted(lista2))\n",
    "\n",
    "# encontrar el tamaño de la lista\n",
    "lista.pop()\n",
    "print(len(lista))\n",
    "print(len(lista2))\n",
    "\n"
   ]
  },
  {
   "cell_type": "code",
   "execution_count": 30,
   "metadata": {},
   "outputs": [
    {
     "name": "stdout",
     "output_type": "stream",
     "text": [
      "hola, mi nombre es pedro\n",
      "hola, mi nombre es paulino\n",
      "hola, mi nombre es fernando\n",
      "0 pedro\n",
      "1 paulino\n",
      "2 fernando\n"
     ]
    }
   ],
   "source": [
    "# iterando una lista\n",
    "lista = [\"pedro\", \"paulino\", \"fernando\"]\n",
    "for i in lista:\n",
    "    mensaje = f'hola, mi nombre es {i}'\n",
    "    print(mensaje)\n",
    "\n",
    "\n",
    "for index, i in enumerate(lista):\n",
    "    print(index, i)"
   ]
  },
  {
   "cell_type": "code",
   "execution_count": 35,
   "metadata": {},
   "outputs": [
    {
     "name": "stdout",
     "output_type": "stream",
     "text": [
      "['pedro', 'paulino']\n",
      "<class 'list'>\n"
     ]
    }
   ],
   "source": [
    "# generando una sublista\n",
    "lista = [\"pedro\", \"paulino\", \"fernando\", \"paulino2\", \"paulino3\"]\n",
    "sublista = lista[0:2]\n",
    "\n",
    "print(sublista)\n",
    "print(type(sublista))"
   ]
  },
  {
   "cell_type": "markdown",
   "metadata": {},
   "source": [
    "### tuplas\n",
    "\n",
    "Las tuplas son similares a las listas pero con elementos que no se pueden modificar, es decir, son listas inmutables"
   ]
  },
  {
   "cell_type": "code",
   "execution_count": 42,
   "metadata": {},
   "outputs": [
    {
     "name": "stdout",
     "output_type": "stream",
     "text": [
      "(450, 600)\n",
      "<class 'tuple'>\n",
      "600\n"
     ]
    }
   ],
   "source": [
    "# definiendo una tupla\n",
    "tupla = (450, 600)\n",
    "print(tupla)\n",
    "\n",
    "print(type(tupla))\n",
    "\n",
    "print(tupla[1])\n"
   ]
  },
  {
   "cell_type": "code",
   "execution_count": 43,
   "metadata": {},
   "outputs": [
    {
     "name": "stdout",
     "output_type": "stream",
     "text": [
      "450\n",
      "600\n"
     ]
    }
   ],
   "source": [
    "#iterando una tupla\n",
    "for i in tupla:\n",
    "    print(i)"
   ]
  },
  {
   "cell_type": "code",
   "execution_count": 45,
   "metadata": {},
   "outputs": [
    {
     "name": "stdout",
     "output_type": "stream",
     "text": [
      "(450, 600)\n",
      "(500, 1000)\n"
     ]
    }
   ],
   "source": [
    "# modificando los valores\n",
    "tupla = (450, 600)\n",
    "print(tupla)\n",
    "\n",
    "tupla = (500, 1000)\n",
    "print(tupla)\n"
   ]
  }
 ],
 "metadata": {
  "kernelspec": {
   "display_name": "Python 3",
   "language": "python",
   "name": "python3"
  },
  "language_info": {
   "codemirror_mode": {
    "name": "ipython",
    "version": 3
   },
   "file_extension": ".py",
   "mimetype": "text/x-python",
   "name": "python",
   "nbconvert_exporter": "python",
   "pygments_lexer": "ipython3",
   "version": "3.11.2"
  }
 },
 "nbformat": 4,
 "nbformat_minor": 2
}
